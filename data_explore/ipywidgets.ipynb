{
 "cells": [
  {
   "cell_type": "code",
   "execution_count": 4,
   "id": "c64a68bf",
   "metadata": {},
   "outputs": [
    {
     "data": {
      "text/html": [
       "<style>.container { width:80% !important; }</style>"
      ],
      "text/plain": [
       "<IPython.core.display.HTML object>"
      ]
     },
     "metadata": {},
     "output_type": "display_data"
    }
   ],
   "source": [
    "import pandas as pd\n",
    "import os\n",
    "import sys\n",
    "import seaborn as sns\n",
    "import matplotlib.pyplot as plt\n",
    "import datetime\n",
    "import pandas as pd\n",
    "pd.set_option('display.max_rows', 100)\n",
    "pd.set_option('display.max_columns', 200)\n",
    "pd.set_option('display.width', 1000)\n",
    "\n",
    "from IPython.core.display import display, HTML\n",
    "display(HTML(\"<style>.container { width:80% !important; }</style>\"))\n",
    "\n",
    "import ipywidgets as widgets\n",
    "from ipywidgets import Layout\n",
    "from IPython.display import display, clear_output"
   ]
  },
  {
   "cell_type": "code",
   "execution_count": null,
   "id": "742ff1f8",
   "metadata": {},
   "outputs": [],
   "source": [
    "os.chdir('D:/repo/AlgoUtil') # Use your own path\n",
    "from get_data.static import RESTfulProcessor"
   ]
  },
  {
   "cell_type": "code",
   "execution_count": null,
   "id": "76a2ddb8",
   "metadata": {},
   "outputs": [],
   "source": [
    "from IPython.display import HTML\n",
    "\n",
    "HTML('''<script>\n",
    "code_show=true; \n",
    "function code_toggle() {\n",
    " if (code_show){\n",
    " $('div.input').hide();\n",
    " } else {\n",
    " $('div.input').show();\n",
    " }\n",
    " code_show = !code_show\n",
    "} \n",
    "$( document ).ready(code_toggle);\n",
    "</script>\n",
    "<form action=\"javascript:code_toggle()\"><input type=\"submit\" value=\"Click here to toggle on/off the raw code.\"></form>''')"
   ]
  },
  {
   "cell_type": "code",
   "execution_count": null,
   "id": "220b84d5",
   "metadata": {},
   "outputs": [],
   "source": [
    "resp = RESTfulProcessor(verbose=False)\n",
    "df_train, df_test = resp.process_data()"
   ]
  },
  {
   "cell_type": "markdown",
   "id": "19990486",
   "metadata": {},
   "source": [
    "# Some Examples of Widgets"
   ]
  },
  {
   "cell_type": "code",
   "execution_count": 36,
   "id": "f70d185e",
   "metadata": {},
   "outputs": [
    {
     "data": {
      "application/vnd.jupyter.widget-view+json": {
       "model_id": "e1be962053664f39b268708d09ca83d3",
       "version_major": 2,
       "version_minor": 0
      },
      "text/plain": [
       "HTML(value='<p style=\"color: green\"> Examples of widgets </p>')"
      ]
     },
     "metadata": {},
     "output_type": "display_data"
    },
    {
     "data": {
      "application/vnd.jupyter.widget-view+json": {
       "model_id": "089af02e10f748948dd6f934b44580ac",
       "version_major": 2,
       "version_minor": 0
      },
      "text/plain": [
       "IntSlider(value=0, description='int')"
      ]
     },
     "metadata": {},
     "output_type": "display_data"
    },
    {
     "data": {
      "application/vnd.jupyter.widget-view+json": {
       "model_id": "6fb87031f20344faa2bfc700a9c96c2e",
       "version_major": 2,
       "version_minor": 0
      },
      "text/plain": [
       "FloatSlider(value=0.0, description='float')"
      ]
     },
     "metadata": {},
     "output_type": "display_data"
    },
    {
     "data": {
      "application/vnd.jupyter.widget-view+json": {
       "model_id": "8b35062580324f699789c7bc587848f9",
       "version_major": 2,
       "version_minor": 0
      },
      "text/plain": [
       "IntText(value=0, description='int')"
      ]
     },
     "metadata": {},
     "output_type": "display_data"
    },
    {
     "data": {
      "application/vnd.jupyter.widget-view+json": {
       "model_id": "6bcbd2f2e2c14f5a877f9e05797de2e7",
       "version_major": 2,
       "version_minor": 0
      },
      "text/plain": [
       "Text(value='please type', description='str')"
      ]
     },
     "metadata": {},
     "output_type": "display_data"
    },
    {
     "data": {
      "application/vnd.jupyter.widget-view+json": {
       "model_id": "84559547643d4be2b9cad8975a751b7f",
       "version_major": 2,
       "version_minor": 0
      },
      "text/plain": [
       "Checkbox(value=False, description='checkbox', disabled=True)"
      ]
     },
     "metadata": {},
     "output_type": "display_data"
    },
    {
     "data": {
      "application/vnd.jupyter.widget-view+json": {
       "model_id": "2d8ed988a1ad43c0bca31d71899880a7",
       "version_major": 2,
       "version_minor": 0
      },
      "text/plain": [
       "Dropdown(description='options', index=1, options=('a', 'b', 'c'), value='b')"
      ]
     },
     "metadata": {},
     "output_type": "display_data"
    },
    {
     "data": {
      "application/vnd.jupyter.widget-view+json": {
       "model_id": "f173c25fdeb7461abfe90b74c3c06b6b",
       "version_major": 2,
       "version_minor": 0
      },
      "text/plain": [
       "DatePicker(value=datetime.date(2021, 10, 31), description='date')"
      ]
     },
     "metadata": {},
     "output_type": "display_data"
    },
    {
     "data": {
      "application/vnd.jupyter.widget-view+json": {
       "model_id": "651040087e294a7c8ff5b244ca2c3c72",
       "version_major": 2,
       "version_minor": 0
      },
      "text/plain": [
       "Button(description='Button', style=ButtonStyle())"
      ]
     },
     "metadata": {},
     "output_type": "display_data"
    }
   ],
   "source": [
    "display(widgets.HTML('<p style=\"color: green\"> Examples of widgets </p>'))\n",
    "display(widgets.IntSlider(min=0, max=100, description='int'))\n",
    "display(widgets.FloatSlider(description='float'))\n",
    "display(widgets.IntText(description='int'))\n",
    "display(widgets.Text(value='please type', description='str'))\n",
    "display(widgets.Checkbox(\n",
    "    value=False, \n",
    "    description='checkbox', \n",
    "    disabled=True # check box is not activated\n",
    "))\n",
    "\n",
    "display(widgets.Dropdown(\n",
    "    options=['a', 'b', 'c'], \n",
    "    value='b', \n",
    "    description='options'\n",
    "))\n",
    "\n",
    "display(widgets.DatePicker(\n",
    "    value=datetime.date.today(), \n",
    "    description='date', \n",
    "    disabled=False # check box is not activated\n",
    "))\n",
    "\n",
    "display(widgets.Button(description='Button'))"
   ]
  },
  {
   "cell_type": "markdown",
   "id": "e4a8bc98",
   "metadata": {},
   "source": [
    "# Widget .value Operation"
   ]
  },
  {
   "cell_type": "code",
   "execution_count": 25,
   "id": "2fecb6ac",
   "metadata": {},
   "outputs": [
    {
     "data": {
      "application/vnd.jupyter.widget-view+json": {
       "model_id": "7f12cf3d67fa46169f41396878a35ad7",
       "version_major": 2,
       "version_minor": 0
      },
      "text/plain": [
       "Text(value='a', description='text')"
      ]
     },
     "metadata": {},
     "output_type": "display_data"
    }
   ],
   "source": [
    "text_input = widgets.Text(value='a', description='text')\n",
    "display(text_input)"
   ]
  },
  {
   "cell_type": "code",
   "execution_count": 22,
   "id": "44b7f5d3",
   "metadata": {},
   "outputs": [
    {
     "data": {
      "text/plain": [
       "'c'"
      ]
     },
     "execution_count": 22,
     "metadata": {},
     "output_type": "execute_result"
    }
   ],
   "source": [
    "text_input.value # value changed after user change input"
   ]
  },
  {
   "cell_type": "code",
   "execution_count": 27,
   "id": "c84f3024",
   "metadata": {},
   "outputs": [],
   "source": [
    "text_input.value = 'ttt' # change displayed value by assigning value "
   ]
  },
  {
   "cell_type": "code",
   "execution_count": 26,
   "id": "cdf6aca3",
   "metadata": {},
   "outputs": [
    {
     "data": {
      "application/vnd.jupyter.widget-view+json": {
       "model_id": "7f12cf3d67fa46169f41396878a35ad7",
       "version_major": 2,
       "version_minor": 0
      },
      "text/plain": [
       "Text(value='a', description='text')"
      ]
     },
     "metadata": {},
     "output_type": "display_data"
    }
   ],
   "source": [
    "display(text_input) # displayed twice"
   ]
  },
  {
   "cell_type": "markdown",
   "id": "66a6633f",
   "metadata": {},
   "source": [
    "# widget.interactive: Hook up Widget with Function"
   ]
  },
  {
   "cell_type": "code",
   "execution_count": 29,
   "id": "454067cd",
   "metadata": {},
   "outputs": [
    {
     "data": {
      "application/vnd.jupyter.widget-view+json": {
       "model_id": "f01a2fd28d7846949f654216c0ef2c23",
       "version_major": 2,
       "version_minor": 0
      },
      "text/plain": [
       "interactive(children=(FloatSlider(value=0.0, description='user input'), Output()), _dom_classes=('widget-inter…"
      ]
     },
     "metadata": {},
     "output_type": "display_data"
    }
   ],
   "source": [
    "f = lambda x: print('User input {}'.format(x))\n",
    "widgets.interactive(f, x=widgets.FloatSlider(step=0.1, description='user input')) # overwrite previous call"
   ]
  },
  {
   "cell_type": "markdown",
   "id": "dd3c4234",
   "metadata": {},
   "source": [
    "# widgets.Output: Centrally Managed Outputs"
   ]
  },
  {
   "cell_type": "code",
   "execution_count": 30,
   "id": "cb390770",
   "metadata": {},
   "outputs": [
    {
     "data": {
      "application/vnd.jupyter.widget-view+json": {
       "model_id": "d09329e3f36842a593d543b4b7780046",
       "version_major": 2,
       "version_minor": 0
      },
      "text/plain": [
       "Output()"
      ]
     },
     "metadata": {},
     "output_type": "display_data"
    }
   ],
   "source": [
    "out_info = widgets.Output()\n",
    "out_info"
   ]
  },
  {
   "cell_type": "code",
   "execution_count": 34,
   "id": "6fb5d74d",
   "metadata": {},
   "outputs": [],
   "source": [
    "with out_info:\n",
    "    clear_output()\n",
    "    print(datetime.datetime.now())"
   ]
  },
  {
   "cell_type": "markdown",
   "id": "f48941bc",
   "metadata": {},
   "source": [
    "# .observe: Trigger Events on Value Change"
   ]
  },
  {
   "cell_type": "code",
   "execution_count": 42,
   "id": "84f89c29",
   "metadata": {},
   "outputs": [
    {
     "data": {
      "application/vnd.jupyter.widget-view+json": {
       "model_id": "8dbad8f5fe6b48bb8bd99a54f19c1259",
       "version_major": 2,
       "version_minor": 0
      },
      "text/plain": [
       "Dropdown(description='Meal', options=('seafood', 'vegetarian'), value='seafood')"
      ]
     },
     "metadata": {},
     "output_type": "display_data"
    },
    {
     "data": {
      "application/vnd.jupyter.widget-view+json": {
       "model_id": "2ceba2f285044e7c8f14da44d9059cb6",
       "version_major": 2,
       "version_minor": 0
      },
      "text/plain": [
       "Dropdown(description='Meal', options=('crab', 'shrimp'), value='crab')"
      ]
     },
     "metadata": {},
     "output_type": "display_data"
    }
   ],
   "source": [
    "# not working\n",
    "df = pd.DataFrame({\n",
    "    'Meal': ['seafood', 'seafood', 'vegetarian', 'vegetarian'], \n",
    "    'Food': ['crab', 'shrimp', 'broccoli', 'carrot']\n",
    "})\n",
    "\n",
    "drop_down3 = widgets.Dropdown(\n",
    "    options=df['Meal'].unique(), \n",
    "    value=df['Meal'].unique()[0], \n",
    "    description='Meal'\n",
    ")\n",
    "\n",
    "drop_down4 = widgets.Dropdown(\n",
    "    options=df.loc[df['Meal'] == drop_down3.value, 'Food'], \n",
    "    value=df.loc[df['Meal'] == drop_down3.value, 'Food'][0], \n",
    "    description='Meal'\n",
    ")\n",
    "\n",
    "display(drop_down3)\n",
    "display(drop_down4)"
   ]
  },
  {
   "cell_type": "code",
   "execution_count": 38,
   "id": "7b57fbf1",
   "metadata": {},
   "outputs": [
    {
     "data": {
      "application/vnd.jupyter.widget-view+json": {
       "model_id": "1353011a0bf54f0296e5e415b37418d2",
       "version_major": 2,
       "version_minor": 0
      },
      "text/plain": [
       "Dropdown(description='Meal', options=('seafood', 'vegetarian'), value='seafood')"
      ]
     },
     "metadata": {},
     "output_type": "display_data"
    },
    {
     "data": {
      "application/vnd.jupyter.widget-view+json": {
       "model_id": "b7fe703669b445e4b69115cb620f05b7",
       "version_major": 2,
       "version_minor": 0
      },
      "text/plain": [
       "Dropdown(description='Meal', options=('crab', 'shrimp'), value='crab')"
      ]
     },
     "metadata": {},
     "output_type": "display_data"
    }
   ],
   "source": [
    "# to update options, you must call the observe function\n",
    "\n",
    "drop_down1 = widgets.Dropdown(\n",
    "    options=df['Meal'].unique(), \n",
    "    value=df['Meal'].unique()[0], \n",
    "    description='Meal'\n",
    ")\n",
    "\n",
    "drop_down2 = widgets.Dropdown(\n",
    "    options=df.loc[df['Meal'] == df['Meal'].unique()[0], 'Food'], \n",
    "    value=df.loc[df['Meal'] == df['Meal'].unique()[0], 'Food'][0], \n",
    "    description='Meal'\n",
    ")\n",
    "\n",
    "def on_meal_change(_): \n",
    "    drop_down2.options = df.loc[df['Meal'] == drop_down1.value, 'Food']\n",
    "    drop_down2.value = df.loc[df['Meal'] == drop_down1.value, 'Food'].values[0]\n",
    "\n",
    "drop_down1.observe(on_meal_change)\n",
    "\n",
    "display(drop_down1)\n",
    "display(drop_down2)"
   ]
  },
  {
   "cell_type": "markdown",
   "id": "413063d4",
   "metadata": {},
   "source": [
    "# .on_click: Trigger Event on Button Click"
   ]
  },
  {
   "cell_type": "code",
   "execution_count": 45,
   "id": "264d191f",
   "metadata": {},
   "outputs": [
    {
     "data": {
      "application/vnd.jupyter.widget-view+json": {
       "model_id": "a14aea0087c543a788d64759f5e1cd18",
       "version_major": 2,
       "version_minor": 0
      },
      "text/plain": [
       "Button(description='Button', style=ButtonStyle())"
      ]
     },
     "metadata": {},
     "output_type": "display_data"
    },
    {
     "data": {
      "application/vnd.jupyter.widget-view+json": {
       "model_id": "e3fff6497603419c87819d81c96efdee",
       "version_major": 2,
       "version_minor": 0
      },
      "text/plain": [
       "Output()"
      ]
     },
     "metadata": {},
     "output_type": "display_data"
    }
   ],
   "source": [
    "button = widgets.Button(description='Button')\n",
    "out_info2 = widgets.Output()\n",
    "def on_button_click(_): \n",
    "    with out_info2: \n",
    "#         clear_output()\n",
    "        print('button clicked! current_time: {}'.format(datetime.datetime.now()))\n",
    "\n",
    "button.on_click(on_button_click)\n",
    "\n",
    "display(button)\n",
    "display(out_info2)"
   ]
  },
  {
   "cell_type": "markdown",
   "id": "05671382",
   "metadata": {},
   "source": [
    "# Interact with Other Widgets"
   ]
  },
  {
   "cell_type": "code",
   "execution_count": 46,
   "id": "8e64a35f",
   "metadata": {},
   "outputs": [
    {
     "data": {
      "application/vnd.jupyter.widget-view+json": {
       "model_id": "c79b0354494643b19805f47ab9e7078b",
       "version_major": 2,
       "version_minor": 0
      },
      "text/plain": [
       "Checkbox(value=False, description='Button 1')"
      ]
     },
     "metadata": {},
     "output_type": "display_data"
    },
    {
     "data": {
      "application/vnd.jupyter.widget-view+json": {
       "model_id": "ffd644177f304420973acf88e66ee59d",
       "version_major": 2,
       "version_minor": 0
      },
      "text/plain": [
       "Checkbox(value=False, description='Button 2')"
      ]
     },
     "metadata": {},
     "output_type": "display_data"
    },
    {
     "data": {
      "application/vnd.jupyter.widget-view+json": {
       "model_id": "239cc9c748d344a08ece58990c75b466",
       "version_major": 2,
       "version_minor": 0
      },
      "text/plain": [
       "Button(description='check/Uncheck all', style=ButtonStyle())"
      ]
     },
     "metadata": {},
     "output_type": "display_data"
    }
   ],
   "source": [
    "box1 = widgets.Checkbox(value=False, description='Button 1')\n",
    "box2 = widgets.Checkbox(value=False, description='Button 2')\n",
    "\n",
    "def on_button_click2(_):\n",
    "    if box1.value: \n",
    "        box1.value = False\n",
    "        box2.value = False\n",
    "    else: \n",
    "        box1.value = True\n",
    "        box2.value = True\n",
    "\n",
    "button2 = widgets.Button(description='check/Uncheck all')\n",
    "button2.on_click(on_button_click2)\n",
    "\n",
    "display(box1)\n",
    "display(box2)\n",
    "display(button2)"
   ]
  },
  {
   "cell_type": "markdown",
   "id": "90190ae5",
   "metadata": {},
   "source": [
    "# HBox, VBox: Display Organization"
   ]
  },
  {
   "cell_type": "code",
   "execution_count": 48,
   "id": "a6184b01",
   "metadata": {},
   "outputs": [
    {
     "data": {
      "application/vnd.jupyter.widget-view+json": {
       "model_id": "164c81fe6f45460c99dbf988e3f525e6",
       "version_major": 2,
       "version_minor": 0
      },
      "text/plain": [
       "VBox(children=(HBox(children=(Checkbox(value=False, description='Button 1'), Checkbox(value=False, description…"
      ]
     },
     "metadata": {},
     "output_type": "display_data"
    }
   ],
   "source": [
    "box_smaple = widgets.VBox([\n",
    "    widgets.HBox([box1, box2]), \n",
    "    button2\n",
    "])\n",
    "\n",
    "box_smaple"
   ]
  },
  {
   "cell_type": "markdown",
   "id": "a9647b8e",
   "metadata": {},
   "source": [
    "# .Tab: Add Page to Display"
   ]
  },
  {
   "cell_type": "code",
   "execution_count": 49,
   "id": "091bf180",
   "metadata": {},
   "outputs": [
    {
     "data": {
      "application/vnd.jupyter.widget-view+json": {
       "model_id": "b45945d91c3942c8a8d8ddab336a24dc",
       "version_major": 2,
       "version_minor": 0
      },
      "text/plain": [
       "Tab(children=(HTML(value='This is page 1'), VBox(children=(HBox(children=(Checkbox(value=False, description='B…"
      ]
     },
     "metadata": {},
     "output_type": "display_data"
    }
   ],
   "source": [
    "tab = widgets.Tab()\n",
    "tab.children = [widgets.HTML('This is page 1'), box_smaple]\n",
    "tab.set_title(0, 'Page 1')\n",
    "tab.set_title(1, 'Page 2')\n",
    "tab"
   ]
  },
  {
   "cell_type": "markdown",
   "id": "0e3a8599",
   "metadata": {},
   "source": [
    "# layout and style: control visual effects"
   ]
  },
  {
   "cell_type": "code",
   "execution_count": 50,
   "id": "5bda83e4",
   "metadata": {},
   "outputs": [
    {
     "data": {
      "application/vnd.jupyter.widget-view+json": {
       "model_id": "a9f6b55448a346659c513fbb159e188c",
       "version_major": 2,
       "version_minor": 0
      },
      "text/plain": [
       "Button(description='1', layout=Layout(width='100px'), style=ButtonStyle())"
      ]
     },
     "metadata": {},
     "output_type": "display_data"
    }
   ],
   "source": [
    "widgets.Button(description='1', layout={'width': '100px'})"
   ]
  },
  {
   "cell_type": "code",
   "execution_count": 51,
   "id": "45e9776f",
   "metadata": {},
   "outputs": [
    {
     "data": {
      "application/vnd.jupyter.widget-view+json": {
       "model_id": "0a4584b1bf524355ab939076251f1acf",
       "version_major": 2,
       "version_minor": 0
      },
      "text/plain": [
       "Button(description='1', layout=Layout(width='150px'), style=ButtonStyle())"
      ]
     },
     "metadata": {},
     "output_type": "display_data"
    }
   ],
   "source": [
    "widgets.Button(description='1', layout={'width': '150px'})"
   ]
  },
  {
   "cell_type": "code",
   "execution_count": 60,
   "id": "60dd923b",
   "metadata": {},
   "outputs": [
    {
     "data": {
      "application/vnd.jupyter.widget-view+json": {
       "model_id": "29bd6ed4f5744d5f88a3a4ded4c2f57e",
       "version_major": 2,
       "version_minor": 0
      },
      "text/plain": [
       "Text(value='', description='a text box', style=DescriptionStyle(description_width='25px'))"
      ]
     },
     "metadata": {},
     "output_type": "display_data"
    }
   ],
   "source": [
    "widgets.Text(description='a text box', style={'description_width': '25px'})"
   ]
  },
  {
   "cell_type": "code",
   "execution_count": 61,
   "id": "22746ae3",
   "metadata": {},
   "outputs": [
    {
     "data": {
      "application/vnd.jupyter.widget-view+json": {
       "model_id": "465846c8094d4c979bfd64cfd9d7f381",
       "version_major": 2,
       "version_minor": 0
      },
      "text/plain": [
       "Text(value='', description='a text box', style=DescriptionStyle(description_width='100px'))"
      ]
     },
     "metadata": {},
     "output_type": "display_data"
    }
   ],
   "source": [
    "widgets.Text(description='a text box', style={'description_width': '100px'})"
   ]
  },
  {
   "cell_type": "markdown",
   "id": "4f9b20a1",
   "metadata": {},
   "source": [
    "# .layout.display: hidge/unhide widgets"
   ]
  },
  {
   "cell_type": "code",
   "execution_count": 65,
   "id": "4cd4904c",
   "metadata": {},
   "outputs": [
    {
     "data": {
      "application/vnd.jupyter.widget-view+json": {
       "model_id": "49cc364a91564470a283a38a65e36037",
       "version_major": 2,
       "version_minor": 0
      },
      "text/plain": [
       "HBox(children=(Checkbox(value=False, description='hide/unhide'), HTML(value='abc')))"
      ]
     },
     "metadata": {},
     "output_type": "display_data"
    }
   ],
   "source": [
    "box3 = widgets.Checkbox(value=False, description='hide/unhide')\n",
    "optional_html = widgets.HTML('abc')\n",
    "\n",
    "def _on_box_checked(_): \n",
    "    if box3.value:\n",
    "        optional_html.layout.display = 'none' # hide\n",
    "    else:\n",
    "        optional_html.layout.display = None # unhide\n",
    "        \n",
    "box3.observe(_on_box_checked)\n",
    "widgets.HBox([box3, optional_html])"
   ]
  }
 ],
 "metadata": {
  "kernelspec": {
   "display_name": "Python 3 (ipykernel)",
   "language": "python",
   "name": "python3"
  },
  "language_info": {
   "codemirror_mode": {
    "name": "ipython",
    "version": 3
   },
   "file_extension": ".py",
   "mimetype": "text/x-python",
   "name": "python",
   "nbconvert_exporter": "python",
   "pygments_lexer": "ipython3",
   "version": "3.9.2"
  }
 },
 "nbformat": 4,
 "nbformat_minor": 5
}
