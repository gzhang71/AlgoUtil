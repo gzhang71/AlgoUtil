{
 "cells": [
  {
   "cell_type": "code",
   "execution_count": 1,
   "id": "63a969d5",
   "metadata": {},
   "outputs": [
    {
     "data": {
      "text/html": [
       "<style>.container { width:80% !important; }</style>"
      ],
      "text/plain": [
       "<IPython.core.display.HTML object>"
      ]
     },
     "metadata": {},
     "output_type": "display_data"
    }
   ],
   "source": [
    "import pandas as pd\n",
    "import os\n",
    "import sys\n",
    "import seaborn as sns\n",
    "import matplotlib.pyplot as plt\n",
    "import datetime\n",
    "import pandas as pd\n",
    "pd.set_option('display.max_rows', 100)\n",
    "pd.set_option('display.max_columns', 200)\n",
    "pd.set_option('display.width', 1000)\n",
    "\n",
    "from IPython.core.display import display, HTML\n",
    "display(HTML(\"<style>.container { width:80% !important; }</style>\"))\n",
    "\n",
    "import ipywidgets as widgets\n",
    "from ipywidgets import Layout\n",
    "from IPython.display import display, clear_output\n",
    "%matplotlib inline"
   ]
  },
  {
   "cell_type": "code",
   "execution_count": 2,
   "id": "5692194b",
   "metadata": {},
   "outputs": [],
   "source": [
    "os.chdir('D:/repo/AlgoUtil') # Use your own path\n",
    "from get_data.static import RESTfulProcessor"
   ]
  },
  {
   "cell_type": "code",
   "execution_count": 3,
   "id": "8edd679f",
   "metadata": {},
   "outputs": [
    {
     "data": {
      "text/html": [
       "<script>\n",
       "code_show=true; \n",
       "function code_toggle() {\n",
       " if (code_show){\n",
       " $('div.input').hide();\n",
       " } else {\n",
       " $('div.input').show();\n",
       " }\n",
       " code_show = !code_show\n",
       "} \n",
       "$( document ).ready(code_toggle);\n",
       "</script>\n",
       "<form action=\"javascript:code_toggle()\"><input type=\"submit\" value=\"Click here to toggle on/off the raw code.\"></form>"
      ],
      "text/plain": [
       "<IPython.core.display.HTML object>"
      ]
     },
     "execution_count": 3,
     "metadata": {},
     "output_type": "execute_result"
    }
   ],
   "source": [
    "from IPython.display import HTML\n",
    "\n",
    "HTML('''<script>\n",
    "code_show=true; \n",
    "function code_toggle() {\n",
    " if (code_show){\n",
    " $('div.input').hide();\n",
    " } else {\n",
    " $('div.input').show();\n",
    " }\n",
    " code_show = !code_show\n",
    "} \n",
    "$( document ).ready(code_toggle);\n",
    "</script>\n",
    "<form action=\"javascript:code_toggle()\"><input type=\"submit\" value=\"Click here to toggle on/off the raw code.\"></form>''')"
   ]
  },
  {
   "cell_type": "markdown",
   "id": "0b85bc97",
   "metadata": {},
   "source": [
    "# Some Examples of Widgets"
   ]
  },
  {
   "cell_type": "code",
   "execution_count": 4,
   "id": "e0b5e0d2",
   "metadata": {},
   "outputs": [
    {
     "data": {
      "application/vnd.jupyter.widget-view+json": {
       "model_id": "6eef6b0b01d44230ab0df251e9b3c991",
       "version_major": 2,
       "version_minor": 0
      },
      "text/plain": [
       "HTML(value='<p style=\"color: green\"> Examples of widgets </p>')"
      ]
     },
     "metadata": {},
     "output_type": "display_data"
    },
    {
     "data": {
      "application/vnd.jupyter.widget-view+json": {
       "model_id": "1f85a7c367074c79a20c5b589151f79b",
       "version_major": 2,
       "version_minor": 0
      },
      "text/plain": [
       "IntSlider(value=0, description='int')"
      ]
     },
     "metadata": {},
     "output_type": "display_data"
    },
    {
     "data": {
      "application/vnd.jupyter.widget-view+json": {
       "model_id": "6fa20d0591f345f4b671d93463138baa",
       "version_major": 2,
       "version_minor": 0
      },
      "text/plain": [
       "FloatSlider(value=0.0, description='float')"
      ]
     },
     "metadata": {},
     "output_type": "display_data"
    },
    {
     "data": {
      "application/vnd.jupyter.widget-view+json": {
       "model_id": "2029c7ca3939401baa8fabb5c1b6f1a9",
       "version_major": 2,
       "version_minor": 0
      },
      "text/plain": [
       "IntText(value=0, description='int')"
      ]
     },
     "metadata": {},
     "output_type": "display_data"
    },
    {
     "data": {
      "application/vnd.jupyter.widget-view+json": {
       "model_id": "d64dfa6e1e1a496ea944f9f1e3568fe4",
       "version_major": 2,
       "version_minor": 0
      },
      "text/plain": [
       "Text(value='please type', description='str')"
      ]
     },
     "metadata": {},
     "output_type": "display_data"
    },
    {
     "data": {
      "application/vnd.jupyter.widget-view+json": {
       "model_id": "3d6d3c3212c84ddea450204d1170e701",
       "version_major": 2,
       "version_minor": 0
      },
      "text/plain": [
       "Checkbox(value=False, description='checkbox', disabled=True)"
      ]
     },
     "metadata": {},
     "output_type": "display_data"
    },
    {
     "data": {
      "application/vnd.jupyter.widget-view+json": {
       "model_id": "f12e38a6078c4f888ebc9cf7e40bccc0",
       "version_major": 2,
       "version_minor": 0
      },
      "text/plain": [
       "Dropdown(description='options', index=1, options=('a', 'b', 'c'), value='b')"
      ]
     },
     "metadata": {},
     "output_type": "display_data"
    },
    {
     "data": {
      "application/vnd.jupyter.widget-view+json": {
       "model_id": "bb5eee8939b64034b439ea73f9ed0088",
       "version_major": 2,
       "version_minor": 0
      },
      "text/plain": [
       "DatePicker(value=datetime.date(2021, 10, 31), description='date')"
      ]
     },
     "metadata": {},
     "output_type": "display_data"
    },
    {
     "data": {
      "application/vnd.jupyter.widget-view+json": {
       "model_id": "c8d59ee2eee14057ba95f1eeb09c2dae",
       "version_major": 2,
       "version_minor": 0
      },
      "text/plain": [
       "Button(description='Button', style=ButtonStyle())"
      ]
     },
     "metadata": {},
     "output_type": "display_data"
    }
   ],
   "source": [
    "display(widgets.HTML('<p style=\"color: green\"> Examples of widgets </p>'))\n",
    "display(widgets.IntSlider(min=0, max=100, description='int'))\n",
    "display(widgets.FloatSlider(description='float'))\n",
    "display(widgets.IntText(description='int'))\n",
    "display(widgets.Text(value='please type', description='str'))\n",
    "display(widgets.Checkbox(\n",
    "    value=False, \n",
    "    description='checkbox', \n",
    "    disabled=True # check box is not activated\n",
    "))\n",
    "\n",
    "display(widgets.Dropdown(\n",
    "    options=['a', 'b', 'c'], \n",
    "    value='b', \n",
    "    description='options'\n",
    "))\n",
    "\n",
    "display(widgets.DatePicker(\n",
    "    value=datetime.date.today(), \n",
    "    description='date', \n",
    "    disabled=False # check box is not activated\n",
    "))\n",
    "\n",
    "display(widgets.Button(description='Button'))"
   ]
  },
  {
   "cell_type": "markdown",
   "id": "c2507843",
   "metadata": {},
   "source": [
    "# Widget .value Operation"
   ]
  },
  {
   "cell_type": "code",
   "execution_count": 5,
   "id": "f641a0d3",
   "metadata": {},
   "outputs": [
    {
     "data": {
      "application/vnd.jupyter.widget-view+json": {
       "model_id": "11bfa4be52f744d6bc68e1acad80cd02",
       "version_major": 2,
       "version_minor": 0
      },
      "text/plain": [
       "Text(value='a', description='text')"
      ]
     },
     "metadata": {},
     "output_type": "display_data"
    }
   ],
   "source": [
    "text_input = widgets.Text(value='a', description='text')\n",
    "display(text_input)"
   ]
  },
  {
   "cell_type": "code",
   "execution_count": 6,
   "id": "d1bd527b",
   "metadata": {},
   "outputs": [
    {
     "data": {
      "text/plain": [
       "'a'"
      ]
     },
     "execution_count": 6,
     "metadata": {},
     "output_type": "execute_result"
    }
   ],
   "source": [
    "text_input.value # value changed after user change input"
   ]
  },
  {
   "cell_type": "code",
   "execution_count": 7,
   "id": "652ac077",
   "metadata": {},
   "outputs": [],
   "source": [
    "text_input.value = 'ttt' # change displayed value by assigning value "
   ]
  },
  {
   "cell_type": "code",
   "execution_count": 8,
   "id": "8669e46a",
   "metadata": {},
   "outputs": [
    {
     "data": {
      "application/vnd.jupyter.widget-view+json": {
       "model_id": "11bfa4be52f744d6bc68e1acad80cd02",
       "version_major": 2,
       "version_minor": 0
      },
      "text/plain": [
       "Text(value='ttt', description='text')"
      ]
     },
     "metadata": {},
     "output_type": "display_data"
    }
   ],
   "source": [
    "display(text_input) # displayed twice"
   ]
  },
  {
   "cell_type": "markdown",
   "id": "914f388c",
   "metadata": {},
   "source": [
    "# widget.interactive: Hook up Widget with Function"
   ]
  },
  {
   "cell_type": "code",
   "execution_count": 9,
   "id": "ee1bf27f",
   "metadata": {},
   "outputs": [
    {
     "data": {
      "application/vnd.jupyter.widget-view+json": {
       "model_id": "3ac6e78998cd468e8553efe01ec0cbcb",
       "version_major": 2,
       "version_minor": 0
      },
      "text/plain": [
       "interactive(children=(FloatSlider(value=0.0, description='user input'), Output()), _dom_classes=('widget-inter…"
      ]
     },
     "metadata": {},
     "output_type": "display_data"
    }
   ],
   "source": [
    "f = lambda x: print('User input {}'.format(x))\n",
    "widgets.interactive(f, x=widgets.FloatSlider(step=0.1, description='user input')) # overwrite previous call"
   ]
  },
  {
   "cell_type": "markdown",
   "id": "70815458",
   "metadata": {},
   "source": [
    "# widgets.Output: Centrally Managed Outputs"
   ]
  },
  {
   "cell_type": "code",
   "execution_count": 10,
   "id": "4e90c31b",
   "metadata": {},
   "outputs": [
    {
     "data": {
      "application/vnd.jupyter.widget-view+json": {
       "model_id": "0d20a5ca182d4686bf9bb6baa423bde2",
       "version_major": 2,
       "version_minor": 0
      },
      "text/plain": [
       "Output()"
      ]
     },
     "metadata": {},
     "output_type": "display_data"
    }
   ],
   "source": [
    "out_info = widgets.Output()\n",
    "out_info"
   ]
  },
  {
   "cell_type": "code",
   "execution_count": 11,
   "id": "7dbfd6b0",
   "metadata": {},
   "outputs": [],
   "source": [
    "with out_info:\n",
    "    clear_output()\n",
    "    print(datetime.datetime.now())"
   ]
  },
  {
   "cell_type": "markdown",
   "id": "65ef7433",
   "metadata": {},
   "source": [
    "# .observe: Trigger Events on Value Change"
   ]
  },
  {
   "cell_type": "code",
   "execution_count": 12,
   "id": "8cbfc88f",
   "metadata": {},
   "outputs": [
    {
     "data": {
      "application/vnd.jupyter.widget-view+json": {
       "model_id": "716fd7ec182c4d4f9c76f2ffc8aa9c22",
       "version_major": 2,
       "version_minor": 0
      },
      "text/plain": [
       "Dropdown(description='Meal', options=('seafood', 'vegetarian'), value='seafood')"
      ]
     },
     "metadata": {},
     "output_type": "display_data"
    },
    {
     "data": {
      "application/vnd.jupyter.widget-view+json": {
       "model_id": "ff6c5e4786b8460cb492ae0cafedf885",
       "version_major": 2,
       "version_minor": 0
      },
      "text/plain": [
       "Dropdown(description='Meal', options=('crab', 'shrimp'), value='crab')"
      ]
     },
     "metadata": {},
     "output_type": "display_data"
    }
   ],
   "source": [
    "# not working\n",
    "df = pd.DataFrame({\n",
    "    'Meal': ['seafood', 'seafood', 'vegetarian', 'vegetarian'], \n",
    "    'Food': ['crab', 'shrimp', 'broccoli', 'carrot']\n",
    "})\n",
    "\n",
    "drop_down3 = widgets.Dropdown(\n",
    "    options=df['Meal'].unique(), \n",
    "    value=df['Meal'].unique()[0], \n",
    "    description='Meal'\n",
    ")\n",
    "\n",
    "drop_down4 = widgets.Dropdown(\n",
    "    options=df.loc[df['Meal'] == drop_down3.value, 'Food'], \n",
    "    value=df.loc[df['Meal'] == drop_down3.value, 'Food'][0], \n",
    "    description='Meal'\n",
    ")\n",
    "\n",
    "display(drop_down3)\n",
    "display(drop_down4)"
   ]
  },
  {
   "cell_type": "code",
   "execution_count": 13,
   "id": "ffa84ffb",
   "metadata": {},
   "outputs": [
    {
     "data": {
      "application/vnd.jupyter.widget-view+json": {
       "model_id": "3594f9b9b72e428f932d56485be1b94f",
       "version_major": 2,
       "version_minor": 0
      },
      "text/plain": [
       "Dropdown(description='Meal', options=('seafood', 'vegetarian'), value='seafood')"
      ]
     },
     "metadata": {},
     "output_type": "display_data"
    },
    {
     "data": {
      "application/vnd.jupyter.widget-view+json": {
       "model_id": "38e4256eb15e436a9ad2988a21077854",
       "version_major": 2,
       "version_minor": 0
      },
      "text/plain": [
       "Dropdown(description='Meal', options=('crab', 'shrimp'), value='crab')"
      ]
     },
     "metadata": {},
     "output_type": "display_data"
    }
   ],
   "source": [
    "# to update options, you must call the observe function\n",
    "\n",
    "drop_down1 = widgets.Dropdown(\n",
    "    options=df['Meal'].unique(), \n",
    "    value=df['Meal'].unique()[0], \n",
    "    description='Meal'\n",
    ")\n",
    "\n",
    "drop_down2 = widgets.Dropdown(\n",
    "    options=df.loc[df['Meal'] == df['Meal'].unique()[0], 'Food'], \n",
    "    value=df.loc[df['Meal'] == df['Meal'].unique()[0], 'Food'][0], \n",
    "    description='Meal'\n",
    ")\n",
    "\n",
    "def on_meal_change(_): \n",
    "    drop_down2.options = df.loc[df['Meal'] == drop_down1.value, 'Food']\n",
    "    drop_down2.value = df.loc[df['Meal'] == drop_down1.value, 'Food'].values[0]\n",
    "\n",
    "drop_down1.observe(on_meal_change)\n",
    "\n",
    "display(drop_down1)\n",
    "display(drop_down2)"
   ]
  },
  {
   "cell_type": "markdown",
   "id": "f88af99a",
   "metadata": {},
   "source": [
    "# .on_click: Trigger Event on Button Click"
   ]
  },
  {
   "cell_type": "code",
   "execution_count": 14,
   "id": "a4773987",
   "metadata": {},
   "outputs": [
    {
     "data": {
      "application/vnd.jupyter.widget-view+json": {
       "model_id": "7f8c8bac08fb424cbe3bf672074513a0",
       "version_major": 2,
       "version_minor": 0
      },
      "text/plain": [
       "Button(description='Button', style=ButtonStyle())"
      ]
     },
     "metadata": {},
     "output_type": "display_data"
    },
    {
     "data": {
      "application/vnd.jupyter.widget-view+json": {
       "model_id": "b9bca907cb0e409d8d7a28ff5a47fe7f",
       "version_major": 2,
       "version_minor": 0
      },
      "text/plain": [
       "Output()"
      ]
     },
     "metadata": {},
     "output_type": "display_data"
    }
   ],
   "source": [
    "button = widgets.Button(description='Button')\n",
    "out_info2 = widgets.Output()\n",
    "def on_button_click(_): \n",
    "    with out_info2: \n",
    "#         clear_output()\n",
    "        print('button clicked! current_time: {}'.format(datetime.datetime.now()))\n",
    "\n",
    "button.on_click(on_button_click)\n",
    "\n",
    "display(button)\n",
    "display(out_info2)"
   ]
  },
  {
   "cell_type": "markdown",
   "id": "c130f706",
   "metadata": {},
   "source": [
    "# Interact with Other Widgets"
   ]
  },
  {
   "cell_type": "code",
   "execution_count": 15,
   "id": "1b2cbc73",
   "metadata": {},
   "outputs": [
    {
     "data": {
      "application/vnd.jupyter.widget-view+json": {
       "model_id": "cf5cbd7083a34c18a47282ede7eb6c20",
       "version_major": 2,
       "version_minor": 0
      },
      "text/plain": [
       "Checkbox(value=False, description='Button 1')"
      ]
     },
     "metadata": {},
     "output_type": "display_data"
    },
    {
     "data": {
      "application/vnd.jupyter.widget-view+json": {
       "model_id": "001f2efdd88c42438132a825c8953b42",
       "version_major": 2,
       "version_minor": 0
      },
      "text/plain": [
       "Checkbox(value=False, description='Button 2')"
      ]
     },
     "metadata": {},
     "output_type": "display_data"
    },
    {
     "data": {
      "application/vnd.jupyter.widget-view+json": {
       "model_id": "71850f5690f84e51a1adb861f21e34be",
       "version_major": 2,
       "version_minor": 0
      },
      "text/plain": [
       "Button(description='check/Uncheck all', style=ButtonStyle())"
      ]
     },
     "metadata": {},
     "output_type": "display_data"
    }
   ],
   "source": [
    "box1 = widgets.Checkbox(value=False, description='Button 1')\n",
    "box2 = widgets.Checkbox(value=False, description='Button 2')\n",
    "\n",
    "def on_button_click2(_):\n",
    "    if box1.value: \n",
    "        box1.value = False\n",
    "        box2.value = False\n",
    "    else: \n",
    "        box1.value = True\n",
    "        box2.value = True\n",
    "\n",
    "button2 = widgets.Button(description='check/Uncheck all')\n",
    "button2.on_click(on_button_click2)\n",
    "\n",
    "display(box1)\n",
    "display(box2)\n",
    "display(button2)"
   ]
  },
  {
   "cell_type": "markdown",
   "id": "cf83dd02",
   "metadata": {},
   "source": [
    "# HBox, VBox: Display Organization"
   ]
  },
  {
   "cell_type": "code",
   "execution_count": 16,
   "id": "0b5c554a",
   "metadata": {},
   "outputs": [
    {
     "data": {
      "application/vnd.jupyter.widget-view+json": {
       "model_id": "3a6fa4f149d341898c091c7bdfd35a03",
       "version_major": 2,
       "version_minor": 0
      },
      "text/plain": [
       "VBox(children=(HBox(children=(Checkbox(value=False, description='Button 1'), Checkbox(value=False, description…"
      ]
     },
     "metadata": {},
     "output_type": "display_data"
    }
   ],
   "source": [
    "box_smaple = widgets.VBox([\n",
    "    widgets.HBox([box1, box2]), \n",
    "    button2\n",
    "])\n",
    "\n",
    "box_smaple"
   ]
  },
  {
   "cell_type": "markdown",
   "id": "12a41130",
   "metadata": {},
   "source": [
    "# .Tab: Add Page to Display"
   ]
  },
  {
   "cell_type": "code",
   "execution_count": 17,
   "id": "e1cfd8c2",
   "metadata": {},
   "outputs": [
    {
     "data": {
      "application/vnd.jupyter.widget-view+json": {
       "model_id": "9073cf9f6d534e02bf34db3ebc9246f1",
       "version_major": 2,
       "version_minor": 0
      },
      "text/plain": [
       "Tab(children=(HTML(value='This is page 1'), VBox(children=(HBox(children=(Checkbox(value=False, description='B…"
      ]
     },
     "metadata": {},
     "output_type": "display_data"
    }
   ],
   "source": [
    "tab = widgets.Tab()\n",
    "tab.children = [widgets.HTML('This is page 1'), box_smaple]\n",
    "tab.set_title(0, 'Page 1')\n",
    "tab.set_title(1, 'Page 2')\n",
    "tab"
   ]
  },
  {
   "cell_type": "markdown",
   "id": "04025093",
   "metadata": {},
   "source": [
    "# layout and style: control visual effects"
   ]
  },
  {
   "cell_type": "code",
   "execution_count": 18,
   "id": "5f3d3ee6",
   "metadata": {},
   "outputs": [
    {
     "data": {
      "application/vnd.jupyter.widget-view+json": {
       "model_id": "baa34fb52e3d4678a0c9852c42897d57",
       "version_major": 2,
       "version_minor": 0
      },
      "text/plain": [
       "Button(description='1', layout=Layout(width='100px'), style=ButtonStyle())"
      ]
     },
     "metadata": {},
     "output_type": "display_data"
    }
   ],
   "source": [
    "widgets.Button(description='1', layout={'width': '100px'})"
   ]
  },
  {
   "cell_type": "code",
   "execution_count": 19,
   "id": "89c54783",
   "metadata": {},
   "outputs": [
    {
     "data": {
      "application/vnd.jupyter.widget-view+json": {
       "model_id": "44fa5de4aa0048bca4838e91dd9c99cc",
       "version_major": 2,
       "version_minor": 0
      },
      "text/plain": [
       "Button(description='1', layout=Layout(width='150px'), style=ButtonStyle())"
      ]
     },
     "metadata": {},
     "output_type": "display_data"
    }
   ],
   "source": [
    "widgets.Button(description='1', layout={'width': '150px'})"
   ]
  },
  {
   "cell_type": "code",
   "execution_count": 20,
   "id": "5d3f1ebb",
   "metadata": {},
   "outputs": [
    {
     "data": {
      "application/vnd.jupyter.widget-view+json": {
       "model_id": "90cbf07642b3494bbd517332df710a2a",
       "version_major": 2,
       "version_minor": 0
      },
      "text/plain": [
       "Text(value='', description='a text box', style=DescriptionStyle(description_width='25px'))"
      ]
     },
     "metadata": {},
     "output_type": "display_data"
    }
   ],
   "source": [
    "widgets.Text(description='a text box', style={'description_width': '25px'})"
   ]
  },
  {
   "cell_type": "code",
   "execution_count": 21,
   "id": "e9549267",
   "metadata": {},
   "outputs": [
    {
     "data": {
      "application/vnd.jupyter.widget-view+json": {
       "model_id": "9b9bbf9ae460421ca1149c6045057395",
       "version_major": 2,
       "version_minor": 0
      },
      "text/plain": [
       "Text(value='', description='a text box', style=DescriptionStyle(description_width='100px'))"
      ]
     },
     "metadata": {},
     "output_type": "display_data"
    }
   ],
   "source": [
    "widgets.Text(description='a text box', style={'description_width': '100px'})"
   ]
  },
  {
   "cell_type": "markdown",
   "id": "e82a71d5",
   "metadata": {},
   "source": [
    "# .layout.display: hidge/unhide widgets"
   ]
  },
  {
   "cell_type": "code",
   "execution_count": 22,
   "id": "9089a149",
   "metadata": {},
   "outputs": [
    {
     "data": {
      "application/vnd.jupyter.widget-view+json": {
       "model_id": "54827156efc940d7bdc252cbb3e9c6f2",
       "version_major": 2,
       "version_minor": 0
      },
      "text/plain": [
       "HBox(children=(Checkbox(value=False, description='hide/unhide'), HTML(value='abc')))"
      ]
     },
     "metadata": {},
     "output_type": "display_data"
    }
   ],
   "source": [
    "box3 = widgets.Checkbox(value=False, description='hide/unhide')\n",
    "optional_html = widgets.HTML('abc')\n",
    "\n",
    "def _on_box_checked(_): \n",
    "    if box3.value:\n",
    "        optional_html.layout.display = 'none' # hide\n",
    "    else:\n",
    "        optional_html.layout.display = None # unhide\n",
    "        \n",
    "box3.observe(_on_box_checked)\n",
    "widgets.HBox([box3, optional_html])"
   ]
  },
  {
   "cell_type": "markdown",
   "id": "107d8d1e",
   "metadata": {},
   "source": [
    "# Practical Example"
   ]
  },
  {
   "cell_type": "code",
   "execution_count": 23,
   "id": "2bc773a8",
   "metadata": {},
   "outputs": [
    {
     "name": "stderr",
     "output_type": "stream",
     "text": [
      "2021-10-31 16:49:32,714 INFO: Found stored D:\\repo\\AlgoUtil/data/ticker.pkl data, start loading\n",
      "2021-10-31 16:49:32,716 INFO: Loading is done\n",
      "2021-10-31 16:49:32,717 INFO: Found stored D:\\repo\\AlgoUtil/data/ticker_detail.pkl data, start loading\n",
      "2021-10-31 16:49:32,804 INFO: Loading is done\n",
      "2021-10-31 16:49:32,805 INFO: Found stored D:\\repo\\AlgoUtil/data/ticker_price.pkl data, start loading\n",
      "2021-10-31 16:49:33,061 INFO: Loading is done\n"
     ]
    }
   ],
   "source": [
    "resp = RESTfulProcessor(verbose=False)\n",
    "df_train, _ = resp.process_data()"
   ]
  },
  {
   "cell_type": "code",
   "execution_count": 24,
   "id": "2e0dd252",
   "metadata": {},
   "outputs": [
    {
     "data": {
      "application/vnd.jupyter.widget-view+json": {
       "model_id": "63633a67ffd14f049109d1b0a7a1ba41",
       "version_major": 2,
       "version_minor": 0
      },
      "text/plain": [
       "VBox(children=(Dropdown(description='Ticker', options=('DE', 'DEA', 'DECK', 'DEI', 'DELL', 'DENN', 'DFFN', 'DF…"
      ]
     },
     "metadata": {},
     "output_type": "display_data"
    },
    {
     "data": {
      "application/vnd.jupyter.widget-view+json": {
       "model_id": "3fa50d6ccdb14725883c28e950077037",
       "version_major": 2,
       "version_minor": 0
      },
      "text/plain": [
       "Output()"
      ]
     },
     "metadata": {},
     "output_type": "display_data"
    }
   ],
   "source": [
    "drop_down = widgets.Dropdown(\n",
    "    options=df_train['ticker'].unique(), \n",
    "    value=df_train['ticker'].unique()[0], \n",
    "    description='Ticker'\n",
    ")\n",
    "\n",
    "button = widgets.Button(description='Run')\n",
    "\n",
    "plot_vbox = widgets.VBox([drop_down, button])\n",
    "plot_output = widgets.Output()\n",
    "\n",
    "\n",
    "\n",
    "def _plot_on_click(_): \n",
    "    df_tmp = df_train[df_train['ticker'] == drop_down.value].copy()\n",
    "    with plot_output: \n",
    "        clear_output(wait=True)\n",
    "        plt.plot(df_tmp['date'], df_tmp['open'])\n",
    "        plt.title(drop_down.value)\n",
    "        plt.show()\n",
    "       \n",
    "        print('button clicked! current_time: {}'.format(datetime.datetime.now()))\n",
    "        \n",
    "        \n",
    "button.on_click(_plot_on_click)\n",
    "display(plot_vbox)\n",
    "display(plot_output)"
   ]
  },
  {
   "cell_type": "code",
   "execution_count": null,
   "id": "cee42468",
   "metadata": {},
   "outputs": [],
   "source": []
  }
 ],
 "metadata": {
  "kernelspec": {
   "display_name": "Python 3 (ipykernel)",
   "language": "python",
   "name": "python3"
  },
  "language_info": {
   "codemirror_mode": {
    "name": "ipython",
    "version": 3
   },
   "file_extension": ".py",
   "mimetype": "text/x-python",
   "name": "python",
   "nbconvert_exporter": "python",
   "pygments_lexer": "ipython3",
   "version": "3.9.2"
  }
 },
 "nbformat": 4,
 "nbformat_minor": 5
}
