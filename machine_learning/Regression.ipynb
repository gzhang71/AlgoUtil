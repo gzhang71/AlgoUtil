{
 "cells": [
  {
   "cell_type": "code",
   "execution_count": null,
   "id": "e13dd95b",
   "metadata": {},
   "outputs": [],
   "source": [
    "import os\n",
    "import sys\n",
    "import seaborn as sns\n",
    "import matplotlib.pyplot as plt\n",
    "from matplotlib import animation\n",
    "import datetime\n",
    "import numpy as np\n",
    "import pandas as pd\n",
    "import statsmodels.api as sm\n",
    "pd.set_option('display.max_rows', 100)\n",
    "pd.set_option('display.max_columns', 200)\n",
    "pd.set_option('display.width', 1000)\n",
    "\n",
    "from IPython.core.display import display, HTML\n",
    "display(HTML(\"<style>.container { width:80% !important; }</style>\"))\n",
    "\n",
    "%matplotlib inline"
   ]
  },
  {
   "cell_type": "code",
   "execution_count": null,
   "id": "a8ba697e",
   "metadata": {},
   "outputs": [],
   "source": [
    "os.chdir('D:/repo/AlgoUtil') # Use your own path\n",
    "from common import get_data_path\n",
    "from get_data.static import RESTfulProcessor\n",
    "from matplotlib.animation import FuncAnimation"
   ]
  },
  {
   "cell_type": "code",
   "execution_count": null,
   "id": "524fc075",
   "metadata": {},
   "outputs": [],
   "source": [
    "from IPython.display import HTML\n",
    "\n",
    "HTML('''<script>\n",
    "code_show=true; \n",
    "function code_toggle() {\n",
    " if (code_show){\n",
    " $('div.input').hide();\n",
    " } else {\n",
    " $('div.input').show();\n",
    " }\n",
    " code_show = !code_show\n",
    "} \n",
    "$( document ).ready(code_toggle);\n",
    "</script>\n",
    "<form action=\"javascript:code_toggle()\"><input type=\"submit\" value=\"Click here to toggle on/off the raw code.\"></form>''')"
   ]
  },
  {
   "cell_type": "code",
   "execution_count": null,
   "id": "258bae5c",
   "metadata": {},
   "outputs": [],
   "source": [
    "resp = RESTfulProcessor(verbose=False)\n",
    "df_train, df_test = resp.process_data()"
   ]
  },
  {
   "cell_type": "markdown",
   "id": "1924b44c",
   "metadata": {},
   "source": [
    "# statsmodels.api"
   ]
  },
  {
   "cell_type": "code",
   "execution_count": null,
   "id": "07181291",
   "metadata": {},
   "outputs": [],
   "source": [
    "y = df_train[['close_pct_chg']]"
   ]
  },
  {
   "cell_type": "code",
   "execution_count": null,
   "id": "b786de89",
   "metadata": {},
   "outputs": [],
   "source": [
    "x = sm.add_constant(df_train[['last_close', 'pre_market', 'volume']])"
   ]
  },
  {
   "cell_type": "code",
   "execution_count": null,
   "id": "abc3df23",
   "metadata": {},
   "outputs": [],
   "source": []
  },
  {
   "cell_type": "code",
   "execution_count": null,
   "id": "b02ee2ea",
   "metadata": {},
   "outputs": [],
   "source": []
  },
  {
   "cell_type": "markdown",
   "id": "05118550",
   "metadata": {},
   "source": [
    "# sklearn"
   ]
  },
  {
   "cell_type": "code",
   "execution_count": null,
   "id": "40433c94",
   "metadata": {},
   "outputs": [],
   "source": []
  },
  {
   "cell_type": "code",
   "execution_count": null,
   "id": "6d1d7278",
   "metadata": {},
   "outputs": [],
   "source": []
  },
  {
   "cell_type": "code",
   "execution_count": null,
   "id": "0cf4ab85",
   "metadata": {},
   "outputs": [],
   "source": []
  }
 ],
 "metadata": {
  "kernelspec": {
   "display_name": "Python 3 (ipykernel)",
   "language": "python",
   "name": "python3"
  },
  "language_info": {
   "codemirror_mode": {
    "name": "ipython",
    "version": 3
   },
   "file_extension": ".py",
   "mimetype": "text/x-python",
   "name": "python",
   "nbconvert_exporter": "python",
   "pygments_lexer": "ipython3",
   "version": "3.9.2"
  }
 },
 "nbformat": 4,
 "nbformat_minor": 5
}
