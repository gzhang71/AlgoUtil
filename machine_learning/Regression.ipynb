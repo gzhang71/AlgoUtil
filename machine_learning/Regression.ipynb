{
 "cells": [
  {
   "cell_type": "code",
   "execution_count": 1,
   "id": "e13dd95b",
   "metadata": {},
   "outputs": [
    {
     "data": {
      "text/html": [
       "<style>.container { width:80% !important; }</style>"
      ],
      "text/plain": [
       "<IPython.core.display.HTML object>"
      ]
     },
     "metadata": {},
     "output_type": "display_data"
    }
   ],
   "source": [
    "import os\n",
    "import sys\n",
    "import seaborn as sns\n",
    "import matplotlib.pyplot as plt\n",
    "from matplotlib import animation\n",
    "import datetime\n",
    "import numpy as np\n",
    "import pandas as pd\n",
    "import statsmodels.api as sm\n",
    "pd.set_option('display.max_rows', 100)\n",
    "pd.set_option('display.max_columns', 200)\n",
    "pd.set_option('display.width', 1000)\n",
    "\n",
    "from IPython.core.display import display, HTML\n",
    "display(HTML(\"<style>.container { width:80% !important; }</style>\"))\n",
    "\n",
    "%matplotlib inline"
   ]
  },
  {
   "cell_type": "code",
   "execution_count": 2,
   "id": "a8ba697e",
   "metadata": {},
   "outputs": [],
   "source": [
    "os.chdir('D:/repo/AlgoUtil') # Use your own path\n",
    "from common import get_data_path\n",
    "from get_data.static import RESTfulProcessor"
   ]
  },
  {
   "cell_type": "code",
   "execution_count": 3,
   "id": "524fc075",
   "metadata": {},
   "outputs": [
    {
     "data": {
      "text/html": [
       "<script>\n",
       "code_show=true; \n",
       "function code_toggle() {\n",
       " if (code_show){\n",
       " $('div.input').hide();\n",
       " } else {\n",
       " $('div.input').show();\n",
       " }\n",
       " code_show = !code_show\n",
       "} \n",
       "$( document ).ready(code_toggle);\n",
       "</script>\n",
       "<form action=\"javascript:code_toggle()\"><input type=\"submit\" value=\"Click here to toggle on/off the raw code.\"></form>"
      ],
      "text/plain": [
       "<IPython.core.display.HTML object>"
      ]
     },
     "execution_count": 3,
     "metadata": {},
     "output_type": "execute_result"
    }
   ],
   "source": [
    "from IPython.display import HTML\n",
    "\n",
    "HTML('''<script>\n",
    "code_show=true; \n",
    "function code_toggle() {\n",
    " if (code_show){\n",
    " $('div.input').hide();\n",
    " } else {\n",
    " $('div.input').show();\n",
    " }\n",
    " code_show = !code_show\n",
    "} \n",
    "$( document ).ready(code_toggle);\n",
    "</script>\n",
    "<form action=\"javascript:code_toggle()\"><input type=\"submit\" value=\"Click here to toggle on/off the raw code.\"></form>''')"
   ]
  },
  {
   "cell_type": "code",
   "execution_count": 7,
   "id": "258bae5c",
   "metadata": {},
   "outputs": [
    {
     "name": "stderr",
     "output_type": "stream",
     "text": [
      "2021-11-01 20:11:24,438 INFO: Found stored D:\\repo\\AlgoUtil/data/ticker.pkl data, start loading\n",
      "2021-11-01 20:11:24,440 INFO: Loading is done\n",
      "2021-11-01 20:11:24,441 INFO: Found stored D:\\repo\\AlgoUtil/data/ticker_detail.pkl data, start loading\n",
      "2021-11-01 20:11:24,479 INFO: Loading is done\n",
      "2021-11-01 20:11:24,480 INFO: Found stored D:\\repo\\AlgoUtil/data/ticker_price.pkl data, start loading\n",
      "2021-11-01 20:11:24,563 INFO: Loading is done\n"
     ]
    }
   ],
   "source": [
    "resp = RESTfulProcessor(verbose=False)\n",
    "df_train, df_test = resp.process_data()"
   ]
  },
  {
   "cell_type": "markdown",
   "id": "1924b44c",
   "metadata": {},
   "source": [
    "# statsmodels.api"
   ]
  },
  {
   "cell_type": "code",
   "execution_count": 8,
   "id": "07181291",
   "metadata": {},
   "outputs": [
    {
     "data": {
      "text/plain": [
       "Index(['ticker', 'date', 'after_hours', 'high', 'low', 'open', 'close',\n",
       "       'pre_market', 'volume', 'name', 'market', 'locale', 'primary_exchange',\n",
       "       'type', 'active', 'currency_name', 'cik', 'composite_figi',\n",
       "       'share_class_figi', 'last_updated_utc', 'outstanding_shares',\n",
       "       'market_cap', 'phone_number', 'address', 'sic_code', 'sic_description',\n",
       "       'ticker_root', 'ticker_suffix', 'currency_symbol',\n",
       "       'base_currency_symbol', 'base_currency_name', 'last_after_hours',\n",
       "       'after_hours_chg', 'after_hours_pct_chg', 'last_pre_market',\n",
       "       'pre_market_chg', 'pre_market_pct_chg', 'last_volume', 'volume_chg',\n",
       "       'volume_pct_chg', 'last_open', 'open_chg', 'open_pct_chg'],\n",
       "      dtype='object')"
      ]
     },
     "execution_count": 8,
     "metadata": {},
     "output_type": "execute_result"
    }
   ],
   "source": [
    "df_train.columns"
   ]
  },
  {
   "cell_type": "code",
   "execution_count": null,
   "id": "b786de89",
   "metadata": {},
   "outputs": [],
   "source": [
    "x = sm.add_constant(df_train[['last_close', 'pre_market', 'volume']])"
   ]
  },
  {
   "cell_type": "code",
   "execution_count": null,
   "id": "abc3df23",
   "metadata": {},
   "outputs": [],
   "source": []
  },
  {
   "cell_type": "code",
   "execution_count": null,
   "id": "b02ee2ea",
   "metadata": {},
   "outputs": [],
   "source": []
  },
  {
   "cell_type": "markdown",
   "id": "05118550",
   "metadata": {},
   "source": [
    "# sklearn"
   ]
  },
  {
   "cell_type": "code",
   "execution_count": null,
   "id": "40433c94",
   "metadata": {},
   "outputs": [],
   "source": []
  },
  {
   "cell_type": "code",
   "execution_count": null,
   "id": "6d1d7278",
   "metadata": {},
   "outputs": [],
   "source": []
  },
  {
   "cell_type": "code",
   "execution_count": null,
   "id": "0cf4ab85",
   "metadata": {},
   "outputs": [],
   "source": []
  }
 ],
 "metadata": {
  "kernelspec": {
   "display_name": "Python 3 (ipykernel)",
   "language": "python",
   "name": "python3"
  },
  "language_info": {
   "codemirror_mode": {
    "name": "ipython",
    "version": 3
   },
   "file_extension": ".py",
   "mimetype": "text/x-python",
   "name": "python",
   "nbconvert_exporter": "python",
   "pygments_lexer": "ipython3",
   "version": "3.9.2"
  }
 },
 "nbformat": 4,
 "nbformat_minor": 5
}
